{
 "cells": [
  {
   "cell_type": "markdown",
   "id": "52e62e84",
   "metadata": {
    "pycharm": {
     "name": "#%% md\n"
    }
   },
   "source": [
    "# Import libraries"
   ]
  },
  {
   "cell_type": "code",
   "execution_count": 1,
   "id": "eeff1c66",
   "metadata": {
    "pycharm": {
     "name": "#%%\n"
    }
   },
   "outputs": [],
   "source": [
    "import PIL\n",
    "import os\n",
    "from PIL import Image\n",
    "from numpy import asarray\n",
    "import numpy as np\n",
    "import tensorflow as tf\n",
    "import keras_spiking\n",
    "import matplotlib.pyplot as plt\n",
    "import util\n",
    "from sklearn.metrics import roc_auc_score\n",
    "from sklearn.metrics import f1_score\n",
    "import pandas as pd"
   ]
  },
  {
   "cell_type": "markdown",
   "id": "9c7b91a2",
   "metadata": {
    "pycharm": {
     "name": "#%% md\n"
    }
   },
   "source": [
    "# Import Dataset"
   ]
  },
  {
   "cell_type": "code",
   "execution_count": 2,
   "id": "9c460dd8",
   "metadata": {
    "pycharm": {
     "name": "#%%\n"
    }
   },
   "outputs": [],
   "source": [
    "X_train = []\n",
    "y_train = []\n",
    "for directory in os.listdir(\"./Dataset/Train\"):\n",
    "    for file in os.listdir(\"./Dataset/Train/\"+directory):\n",
    "        image = np.array(Image.open(\"./Dataset/Train/\"+directory+\"/\"+file))\n",
    "        X_train.append(image)\n",
    "        y_train.append(directory)"
   ]
  },
  {
   "cell_type": "code",
   "execution_count": 3,
   "id": "54619afe",
   "metadata": {
    "pycharm": {
     "name": "#%%\n"
    }
   },
   "outputs": [],
   "source": [
    "X_train = np.array(X_train)\n",
    "y_train = np.array(y_train)"
   ]
  },
  {
   "cell_type": "code",
   "execution_count": 4,
   "id": "3a634a69",
   "metadata": {
    "pycharm": {
     "name": "#%%\n"
    }
   },
   "outputs": [
    {
     "name": "stdout",
     "output_type": "stream",
     "text": [
      "Total train images: 6108\n",
      "COVID train images: 2594\n",
      "Non-COVID train images: 3514\n"
     ]
    }
   ],
   "source": [
    "n_train = y_train.shape[0]\n",
    "n_train_covid = np.sum(np.where(y_train == \"COVID\", 1, 0))\n",
    "n_train_non_covid = np.sum(np.where(y_train == \"Non-COVID\", 1, 0))\n",
    "\n",
    "print(\"Total train images: \" + str(n_train))\n",
    "print(\"COVID train images: \" + str(n_train_covid))\n",
    "print(\"Non-COVID train images: \" + str(n_train_non_covid))"
   ]
  },
  {
   "cell_type": "code",
   "execution_count": 5,
   "id": "1848e4b8",
   "metadata": {
    "pycharm": {
     "name": "#%%\n"
    }
   },
   "outputs": [],
   "source": [
    "X_val = []\n",
    "y_val = []\n",
    "for directory in os.listdir(\"./Dataset/Validation\"):\n",
    "    for file in os.listdir(\"./Dataset/Validation/\"+directory):\n",
    "        image = np.array(Image.open(\"./Dataset/Validation/\"+directory+\"/\"+file))\n",
    "        X_val.append(image)\n",
    "        y_val.append(directory)"
   ]
  },
  {
   "cell_type": "code",
   "execution_count": 6,
   "id": "57666ebe",
   "metadata": {
    "pycharm": {
     "name": "#%%\n"
    }
   },
   "outputs": [],
   "source": [
    "X_val = np.array(X_val)\n",
    "y_val = np.array(y_val)"
   ]
  },
  {
   "cell_type": "code",
   "execution_count": 7,
   "id": "5a56adba",
   "metadata": {
    "pycharm": {
     "name": "#%%\n"
    }
   },
   "outputs": [
    {
     "name": "stdout",
     "output_type": "stream",
     "text": [
      "Total validation images: 1226\n",
      "COVID validation images: 543\n",
      "Non-COVID validation images: 683\n"
     ]
    }
   ],
   "source": [
    "n_val = y_val.shape[0]\n",
    "n_val_covid = np.sum(np.where(y_val == \"COVID\", 1, 0))\n",
    "n_val_non_covid = np.sum(np.where(y_val == \"Non-COVID\", 1, 0))\n",
    "\n",
    "print(\"Total validation images: \" + str(n_val))\n",
    "print(\"COVID validation images: \" + str(n_val_covid))\n",
    "print(\"Non-COVID validation images: \" + str(n_val_non_covid))"
   ]
  },
  {
   "cell_type": "code",
   "execution_count": 8,
   "id": "04cfb2cf",
   "metadata": {
    "pycharm": {
     "name": "#%%\n"
    }
   },
   "outputs": [],
   "source": [
    "X_test = []\n",
    "y_test = []\n",
    "for directory in os.listdir(\"./Dataset/Test\"):\n",
    "    for file in os.listdir(\"./Dataset/Test/\"+directory):\n",
    "        image = np.array(Image.open(\"./Dataset/Test/\"+directory+\"/\"+file))\n",
    "        X_test.append(image)\n",
    "        y_test.append(directory)"
   ]
  },
  {
   "cell_type": "code",
   "execution_count": 9,
   "id": "1bd25a87",
   "metadata": {
    "pycharm": {
     "name": "#%%\n"
    }
   },
   "outputs": [],
   "source": [
    "X_test = np.array(X_test)\n",
    "y_test = np.array(y_test)"
   ]
  },
  {
   "cell_type": "code",
   "execution_count": 10,
   "id": "07076afc",
   "metadata": {
    "pycharm": {
     "name": "#%%\n"
    }
   },
   "outputs": [
    {
     "name": "stdout",
     "output_type": "stream",
     "text": [
      "Total test images: 1400\n",
      "COVID test images: 591\n",
      "Non-COVID test images: 809\n"
     ]
    }
   ],
   "source": [
    "n_test = y_test.shape[0]\n",
    "n_test_covid = np.sum(np.where(y_test == \"COVID\", 1, 0))\n",
    "n_test_non_covid = np.sum(np.where(y_test == \"Non-COVID\", 1, 0))\n",
    "\n",
    "print(\"Total test images: \" + str(n_test))\n",
    "print(\"COVID test images: \" + str(n_test_covid))\n",
    "print(\"Non-COVID test images: \" + str(n_test_non_covid))"
   ]
  },
  {
   "cell_type": "code",
   "execution_count": 11,
   "id": "996d3365",
   "metadata": {
    "pycharm": {
     "name": "#%%\n"
    }
   },
   "outputs": [
    {
     "name": "stdout",
     "output_type": "stream",
     "text": [
      "Total images: 8734\n",
      "Total COVID images: 3728\n",
      "Total Non-COVID images: 5006\n"
     ]
    }
   ],
   "source": [
    "print(\"Total images: \" + str(n_train+n_val+n_test))\n",
    "print(\"Total COVID images: \" + str(n_train_covid+n_val_covid+n_test_covid))\n",
    "print(\"Total Non-COVID images: \" + str(n_train_non_covid+n_val_non_covid+n_test_non_covid))"
   ]
  },
  {
   "cell_type": "markdown",
   "id": "16533e27",
   "metadata": {
    "pycharm": {
     "name": "#%% md\n"
    }
   },
   "source": [
    "# Simple pre-processing of data"
   ]
  },
  {
   "cell_type": "code",
   "execution_count": 12,
   "id": "ae875fd6",
   "metadata": {
    "pycharm": {
     "name": "#%%\n"
    }
   },
   "outputs": [],
   "source": [
    "X_train = np.expand_dims(X_train, -1)\n",
    "X_val = np.expand_dims(X_val, -1)\n",
    "X_test = np.expand_dims(X_test, -1)"
   ]
  },
  {
   "cell_type": "code",
   "execution_count": 13,
   "id": "8ce40858",
   "metadata": {
    "pycharm": {
     "name": "#%%\n"
    }
   },
   "outputs": [],
   "source": [
    "n_steps = 1\n",
    "X_train = np.tile(X_train[:, None], (1, n_steps, 1, 1, 1))\n",
    "X_val = np.tile(X_val[:, None], (1, n_steps, 1, 1, 1))\n",
    "X_test = np.tile(X_test[:, None], (1, n_steps, 1, 1, 1))"
   ]
  },
  {
   "cell_type": "code",
   "execution_count": 14,
   "id": "5b03b93f",
   "metadata": {
    "pycharm": {
     "name": "#%%\n"
    }
   },
   "outputs": [],
   "source": [
    "X_train = X_train / 255\n",
    "X_val = X_val / 255\n",
    "X_test = X_test / 255"
   ]
  },
  {
   "cell_type": "code",
   "execution_count": 15,
   "id": "3a341633",
   "metadata": {
    "pycharm": {
     "name": "#%%\n"
    }
   },
   "outputs": [],
   "source": [
    "num_classes = 2\n",
    "y_train = np.where(y_train == \"COVID\", 1, 0)\n",
    "y_train = tf.keras.utils.to_categorical(y_train, num_classes)\n",
    "\n",
    "y_val = np.where(y_val == \"COVID\", 1, 0)\n",
    "y_val = tf.keras.utils.to_categorical(y_val, num_classes)\n",
    "\n",
    "y_test = np.where(y_test == \"COVID\", 1, 0)\n",
    "y_test = tf.keras.utils.to_categorical(y_test, num_classes)"
   ]
  },
  {
   "cell_type": "code",
   "execution_count": 16,
   "id": "ecd9519a",
   "metadata": {
    "pycharm": {
     "name": "#%%\n"
    }
   },
   "outputs": [
    {
     "data": {
      "text/plain": [
       "((6108, 1, 256, 256, 1), (1226, 1, 256, 256, 1), (1400, 1, 256, 256, 1))"
      ]
     },
     "execution_count": 16,
     "metadata": {},
     "output_type": "execute_result"
    }
   ],
   "source": [
    "X_train.shape, X_val.shape, X_test.shape"
   ]
  },
  {
   "cell_type": "code",
   "execution_count": 17,
   "id": "be9239c4",
   "metadata": {
    "pycharm": {
     "name": "#%%\n"
    }
   },
   "outputs": [
    {
     "data": {
      "text/plain": [
       "((6108, 2), (1226, 2), (1400, 2))"
      ]
     },
     "execution_count": 17,
     "metadata": {},
     "output_type": "execute_result"
    }
   ],
   "source": [
    "y_train.shape, y_val.shape, y_test.shape"
   ]
  },
  {
   "cell_type": "code",
   "execution_count": 18,
   "id": "ef5bc5fc",
   "metadata": {
    "pycharm": {
     "name": "#%%\n"
    }
   },
   "outputs": [
    {
     "data": {
      "text/plain": [
       "(dtype('float64'), dtype('float64'), dtype('float64'))"
      ]
     },
     "execution_count": 18,
     "metadata": {},
     "output_type": "execute_result"
    }
   ],
   "source": [
    "X_train.dtype, X_val.dtype, X_test.dtype"
   ]
  },
  {
   "cell_type": "code",
   "execution_count": 19,
   "id": "89806e68",
   "metadata": {
    "pycharm": {
     "name": "#%%\n"
    }
   },
   "outputs": [
    {
     "data": {
      "text/plain": [
       "(dtype('float32'), dtype('float32'), dtype('float32'))"
      ]
     },
     "execution_count": 19,
     "metadata": {},
     "output_type": "execute_result"
    }
   ],
   "source": [
    "y_train.dtype, y_val.dtype, y_test.dtype"
   ]
  },
  {
   "cell_type": "markdown",
   "id": "d5f84ca6",
   "metadata": {
    "pycharm": {
     "name": "#%% md\n"
    }
   },
   "source": [
    "# Network definition"
   ]
  },
  {
   "cell_type": "code",
   "execution_count": 20,
   "id": "4693aa7f",
   "metadata": {
    "pycharm": {
     "name": "#%%\n"
    }
   },
   "outputs": [
    {
     "name": "stderr",
     "output_type": "stream",
     "text": [
      "2022-05-31 20:22:22.651216: I tensorflow/stream_executor/cuda/cuda_gpu_executor.cc:936] successful NUMA node read from SysFS had negative value (-1), but there must be at least one NUMA node, so returning NUMA node zero\n",
      "2022-05-31 20:22:22.689314: I tensorflow/stream_executor/cuda/cuda_gpu_executor.cc:936] successful NUMA node read from SysFS had negative value (-1), but there must be at least one NUMA node, so returning NUMA node zero\n",
      "2022-05-31 20:22:22.690068: I tensorflow/stream_executor/cuda/cuda_gpu_executor.cc:936] successful NUMA node read from SysFS had negative value (-1), but there must be at least one NUMA node, so returning NUMA node zero\n",
      "2022-05-31 20:22:22.691049: I tensorflow/core/platform/cpu_feature_guard.cc:151] This TensorFlow binary is optimized with oneAPI Deep Neural Network Library (oneDNN) to use the following CPU instructions in performance-critical operations:  AVX2 FMA\n",
      "To enable them in other operations, rebuild TensorFlow with the appropriate compiler flags.\n",
      "2022-05-31 20:22:22.691540: I tensorflow/stream_executor/cuda/cuda_gpu_executor.cc:936] successful NUMA node read from SysFS had negative value (-1), but there must be at least one NUMA node, so returning NUMA node zero\n",
      "2022-05-31 20:22:22.692242: I tensorflow/stream_executor/cuda/cuda_gpu_executor.cc:936] successful NUMA node read from SysFS had negative value (-1), but there must be at least one NUMA node, so returning NUMA node zero\n",
      "2022-05-31 20:22:22.692811: I tensorflow/stream_executor/cuda/cuda_gpu_executor.cc:936] successful NUMA node read from SysFS had negative value (-1), but there must be at least one NUMA node, so returning NUMA node zero\n",
      "2022-05-31 20:22:23.239937: I tensorflow/stream_executor/cuda/cuda_gpu_executor.cc:936] successful NUMA node read from SysFS had negative value (-1), but there must be at least one NUMA node, so returning NUMA node zero\n",
      "2022-05-31 20:22:23.240404: I tensorflow/stream_executor/cuda/cuda_gpu_executor.cc:936] successful NUMA node read from SysFS had negative value (-1), but there must be at least one NUMA node, so returning NUMA node zero\n",
      "2022-05-31 20:22:23.240835: I tensorflow/stream_executor/cuda/cuda_gpu_executor.cc:936] successful NUMA node read from SysFS had negative value (-1), but there must be at least one NUMA node, so returning NUMA node zero\n",
      "2022-05-31 20:22:23.241249: I tensorflow/core/common_runtime/gpu/gpu_device.cc:1525] Created device /job:localhost/replica:0/task:0/device:GPU:0 with 10342 MB memory:  -> device: 0, name: NVIDIA GeForce GTX 1080 Ti, pci bus id: 0000:02:00.0, compute capability: 6.1\n"
     ]
    }
   ],
   "source": [
    "model = tf.keras.Sequential(\n",
    "    [ \n",
    "        tf.keras.layers.Input((1, 256, 256, 1)),\n",
    "        \n",
    "        tf.keras.layers.TimeDistributed(tf.keras.layers.Conv2D(filters=8, kernel_size=3)),\n",
    "        keras_spiking.SpikingActivation(\"relu\", dt=2, spiking_aware_training=True),\n",
    "     \n",
    "\n",
    "        tf.keras.layers.TimeDistributed(tf.keras.layers.Conv2D(filters=64, kernel_size=3)),\n",
    "        keras_spiking.SpikingActivation(\"relu\", dt=2, spiking_aware_training=True),\n",
    "\n",
    "        tf.keras.layers.TimeDistributed(tf.keras.layers.MaxPooling2D(pool_size=(4, 4),strides=2)),\n",
    "     \n",
    "        tf.keras.layers.TimeDistributed(tf.keras.layers.Conv2D(filters=128, kernel_size=3)),\n",
    "        keras_spiking.SpikingActivation(\"relu\", dt=2, spiking_aware_training=True),\n",
    "     \n",
    "        tf.keras.layers.TimeDistributed(tf.keras.layers.Flatten()),\n",
    "        \n",
    "        tf.keras.layers.TimeDistributed(tf.keras.layers.Dense(128)),\n",
    "        keras_spiking.SpikingActivation(\"relu\", dt=2, spiking_aware_training=True),\n",
    "        \n",
    "        tf.keras.layers.TimeDistributed(tf.keras.layers.Dense(64)),\n",
    "        keras_spiking.SpikingActivation(\"relu\", dt=2, spiking_aware_training=True),\n",
    "        \n",
    "        tf.keras.layers.TimeDistributed(tf.keras.layers.Dense(8)),\n",
    "        keras_spiking.SpikingActivation(\"relu\", dt=2, spiking_aware_training=True),\n",
    "        \n",
    "        tf.keras.layers.Flatten(),\n",
    "        \n",
    "        tf.keras.layers.Dense(2, activation=\"softmax\")\n",
    "    ]\n",
    ")"
   ]
  },
  {
   "cell_type": "code",
   "execution_count": 21,
   "id": "6d8994dd",
   "metadata": {
    "pycharm": {
     "name": "#%%\n"
    }
   },
   "outputs": [
    {
     "name": "stdout",
     "output_type": "stream",
     "text": [
      "Num GPUs Available:  1\n"
     ]
    }
   ],
   "source": [
    "print(\"Num GPUs Available: \", len(tf.config.experimental.list_physical_devices('GPU')))"
   ]
  },
  {
   "cell_type": "code",
   "execution_count": 22,
   "id": "0e1dfbe7",
   "metadata": {
    "pycharm": {
     "name": "#%%\n"
    }
   },
   "outputs": [
    {
     "name": "stdout",
     "output_type": "stream",
     "text": [
      "Model: \"sequential\"\n",
      "_________________________________________________________________\n",
      " Layer (type)                Output Shape              Param #   \n",
      "=================================================================\n",
      " time_distributed (TimeDistr  (None, 1, 254, 254, 8)   80        \n",
      " ibuted)                                                         \n",
      "                                                                 \n",
      " spiking_activation (Spiking  (None, 1, 254, 254, 8)   0         \n",
      " Activation)                                                     \n",
      "                                                                 \n",
      " time_distributed_1 (TimeDis  (None, 1, 252, 252, 64)  4672      \n",
      " tributed)                                                       \n",
      "                                                                 \n",
      " spiking_activation_1 (Spiki  (None, 1, 252, 252, 64)  0         \n",
      " ngActivation)                                                   \n",
      "                                                                 \n",
      " time_distributed_2 (TimeDis  (None, 1, 125, 125, 64)  0         \n",
      " tributed)                                                       \n",
      "                                                                 \n",
      " time_distributed_3 (TimeDis  (None, 1, 123, 123, 128)  73856    \n",
      " tributed)                                                       \n",
      "                                                                 \n",
      " spiking_activation_2 (Spiki  (None, 1, 123, 123, 128)  0        \n",
      " ngActivation)                                                   \n",
      "                                                                 \n",
      " time_distributed_4 (TimeDis  (None, 1, 1936512)       0         \n",
      " tributed)                                                       \n",
      "                                                                 \n",
      " time_distributed_5 (TimeDis  (None, 1, 128)           247873664 \n",
      " tributed)                                                       \n",
      "                                                                 \n",
      " spiking_activation_3 (Spiki  (None, 1, 128)           0         \n",
      " ngActivation)                                                   \n",
      "                                                                 \n",
      " time_distributed_6 (TimeDis  (None, 1, 64)            8256      \n",
      " tributed)                                                       \n",
      "                                                                 \n",
      " spiking_activation_4 (Spiki  (None, 1, 64)            0         \n",
      " ngActivation)                                                   \n",
      "                                                                 \n",
      " time_distributed_7 (TimeDis  (None, 1, 8)             520       \n",
      " tributed)                                                       \n",
      "                                                                 \n",
      " spiking_activation_5 (Spiki  (None, 1, 8)             0         \n",
      " ngActivation)                                                   \n",
      "                                                                 \n",
      " flatten_1 (Flatten)         (None, 8)                 0         \n",
      "                                                                 \n",
      " dense_3 (Dense)             (None, 2)                 18        \n",
      "                                                                 \n",
      "=================================================================\n",
      "Total params: 247,961,066\n",
      "Trainable params: 247,961,066\n",
      "Non-trainable params: 0\n",
      "_________________________________________________________________\n"
     ]
    }
   ],
   "source": [
    "model.summary()"
   ]
  },
  {
   "cell_type": "markdown",
   "id": "8cd07897",
   "metadata": {
    "pycharm": {
     "name": "#%% md\n"
    }
   },
   "source": [
    "# Training"
   ]
  },
  {
   "cell_type": "code",
   "execution_count": 23,
   "id": "4d6e57c7",
   "metadata": {
    "pycharm": {
     "name": "#%%\n"
    },
    "scrolled": true
   },
   "outputs": [
    {
     "name": "stderr",
     "output_type": "stream",
     "text": [
      "2022-05-31 20:22:25.422963: W tensorflow/core/framework/cpu_allocator_impl.cc:82] Allocation of 1601175552 exceeds 10% of free system memory.\n",
      "2022-05-31 20:22:28.128720: W tensorflow/core/framework/cpu_allocator_impl.cc:82] Allocation of 1601175552 exceeds 10% of free system memory.\n"
     ]
    },
    {
     "name": "stdout",
     "output_type": "stream",
     "text": [
      "Epoch 1/20\n"
     ]
    },
    {
     "name": "stderr",
     "output_type": "stream",
     "text": [
      "2022-05-31 20:22:32.652041: I tensorflow/stream_executor/cuda/cuda_dnn.cc:368] Loaded cuDNN version 8302\n",
      "2022-05-31 20:22:33.120919: W tensorflow/stream_executor/gpu/asm_compiler.cc:111] *** WARNING *** You are using ptxas 11.0.194, which is older than 11.1. ptxas before 11.1 is known to miscompile XLA code, leading to incorrect results or invalid-address errors.\n",
      "\n",
      "You may not need to update to CUDA 11.1; cherry-picking the ptxas binary is often sufficient.\n"
     ]
    },
    {
     "name": "stdout",
     "output_type": "stream",
     "text": [
      "191/191 [==============================] - 50s 244ms/step - loss: 1.1191 - accuracy: 0.6243 - val_loss: 0.4327 - val_accuracy: 0.7781\n",
      "Epoch 2/20\n",
      "191/191 [==============================] - 45s 235ms/step - loss: 0.5453 - accuracy: 0.7120 - val_loss: 0.4613 - val_accuracy: 0.8026\n",
      "Epoch 3/20\n",
      "191/191 [==============================] - 45s 235ms/step - loss: 0.4673 - accuracy: 0.7531 - val_loss: 0.3920 - val_accuracy: 0.8181\n",
      "Epoch 4/20\n",
      "191/191 [==============================] - 45s 234ms/step - loss: 0.4355 - accuracy: 0.7618 - val_loss: 0.2668 - val_accuracy: 0.8850\n",
      "Epoch 5/20\n",
      "191/191 [==============================] - 45s 234ms/step - loss: 0.3844 - accuracy: 0.8035 - val_loss: 0.3086 - val_accuracy: 0.8793\n",
      "Epoch 6/20\n",
      "191/191 [==============================] - 45s 234ms/step - loss: 0.3675 - accuracy: 0.8125 - val_loss: 0.2441 - val_accuracy: 0.9095\n",
      "Epoch 7/20\n",
      "191/191 [==============================] - 45s 234ms/step - loss: 0.3418 - accuracy: 0.8319 - val_loss: 0.2365 - val_accuracy: 0.9054\n",
      "Epoch 8/20\n",
      "191/191 [==============================] - 45s 234ms/step - loss: 0.3268 - accuracy: 0.8479 - val_loss: 0.2025 - val_accuracy: 0.9217\n",
      "Epoch 9/20\n",
      "191/191 [==============================] - 45s 234ms/step - loss: 0.3029 - accuracy: 0.8602 - val_loss: 0.1820 - val_accuracy: 0.9356\n",
      "Epoch 10/20\n",
      "191/191 [==============================] - 45s 234ms/step - loss: 0.2866 - accuracy: 0.8639 - val_loss: 0.1926 - val_accuracy: 0.9421\n",
      "Epoch 11/20\n",
      "191/191 [==============================] - 45s 234ms/step - loss: 0.2502 - accuracy: 0.8834 - val_loss: 0.1790 - val_accuracy: 0.9396\n",
      "Epoch 12/20\n",
      "191/191 [==============================] - 45s 234ms/step - loss: 0.2383 - accuracy: 0.8893 - val_loss: 0.1222 - val_accuracy: 0.9608\n",
      "Epoch 13/20\n",
      "191/191 [==============================] - 45s 234ms/step - loss: 0.2253 - accuracy: 0.8951 - val_loss: 0.1367 - val_accuracy: 0.9462\n",
      "Epoch 14/20\n",
      "191/191 [==============================] - 45s 234ms/step - loss: 0.2162 - accuracy: 0.8973 - val_loss: 0.2169 - val_accuracy: 0.9160\n",
      "Epoch 15/20\n",
      "191/191 [==============================] - 45s 234ms/step - loss: 0.1963 - accuracy: 0.9054 - val_loss: 0.1390 - val_accuracy: 0.9478\n",
      "Epoch 16/20\n",
      "191/191 [==============================] - 45s 234ms/step - loss: 0.1912 - accuracy: 0.9109 - val_loss: 0.1601 - val_accuracy: 0.9519\n",
      "Epoch 17/20\n",
      "191/191 [==============================] - 45s 234ms/step - loss: 0.1862 - accuracy: 0.9131 - val_loss: 0.1816 - val_accuracy: 0.9421\n",
      "Epoch 18/20\n",
      "191/191 [==============================] - 45s 234ms/step - loss: 0.1762 - accuracy: 0.9175 - val_loss: 0.1359 - val_accuracy: 0.9519\n",
      "Epoch 19/20\n",
      "191/191 [==============================] - 45s 234ms/step - loss: 0.1473 - accuracy: 0.9296 - val_loss: 0.1623 - val_accuracy: 0.9502\n",
      "Epoch 20/20\n",
      "191/191 [==============================] - 45s 234ms/step - loss: 0.1436 - accuracy: 0.9321 - val_loss: 0.1664 - val_accuracy: 0.9527\n"
     ]
    }
   ],
   "source": [
    "batch_size = 32\n",
    "epochs = 20\n",
    "\n",
    "model.compile(loss=tf.keras.losses.CategoricalCrossentropy(), optimizer=\"adam\", metrics=[\"accuracy\"])\n",
    "history = model.fit(X_train, y_train, batch_size=batch_size, epochs=epochs, validation_data=(X_val, y_val))"
   ]
  },
  {
   "cell_type": "code",
   "execution_count": 24,
   "id": "51be57a7",
   "metadata": {
    "pycharm": {
     "name": "#%%\n"
    }
   },
   "outputs": [],
   "source": [
    "def plot_history(network_history):\n",
    "    plt.figure()\n",
    "    plt.xlabel('Epochs')\n",
    "    plt.ylabel('Loss')\n",
    "    plt.plot(x_plot, network_history.history['loss'])\n",
    "    plt.plot(x_plot, network_history.history['val_loss'])\n",
    "    plt.legend(['Training', 'Validation'])\n",
    "    plt.show()"
   ]
  },
  {
   "cell_type": "code",
   "execution_count": 25,
   "id": "c4e15849",
   "metadata": {
    "pycharm": {
     "name": "#%%\n"
    }
   },
   "outputs": [
    {
     "data": {
      "image/png": "[encoded data removed]",
      "text/plain": [
       "<Figure size 432x288 with 1 Axes>"
      ]
     },
     "metadata": {
      "needs_background": "light"
     },
     "output_type": "display_data"
    }
   ],
   "source": [
    "x_plot = list(range(1, epochs + 1))\n",
    "plot_history(history)"
   ]
  },
  {
   "cell_type": "markdown",
   "id": "22f6e103",
   "metadata": {
    "pycharm": {
     "name": "#%% md\n"
    }
   },
   "source": [
    "# Energy consumption"
   ]
  },
  {
   "cell_type": "code",
   "execution_count": 43,
   "id": "a95d86b3",
   "metadata": {
    "pycharm": {
     "name": "#%%\n"
    }
   },
   "outputs": [
    {
     "name": "stderr",
     "output_type": "stream",
     "text": [
      "2022-05-31 20:48:07.392056: W tensorflow/core/framework/cpu_allocator_impl.cc:82] Allocation of 520224768 exceeds 10% of free system memory.\n"
     ]
    },
    {
     "name": "stdout",
     "output_type": "stream",
     "text": [
      "Layer (type)                            |J/inf (cpu)|J/inf (gpu)|J/inf (loihi)\n",
      "----------------------------------------|-----------|-----------|-------------\n",
      "time_distributed (TimeDistributed)      |       0.04|     0.0014|      0.00025\n",
      "spiking_activation (SpikingActivation)  |     0.0044|    0.00015|      4.2e-05\n",
      "time_distributed_1 (TimeDistributed)    |        2.5|      0.088|        0.003\n",
      "spiking_activation_1 (SpikingActivation)|      0.035|     0.0012|      0.00033\n",
      "time_distributed_2 (TimeDistributed)    |          0|          0|            0\n",
      "time_distributed_3 (TimeDistributed)    |        9.6|       0.33|        0.032\n",
      "spiking_activation_2 (SpikingActivation)|      0.017|    0.00058|      0.00016\n",
      "time_distributed_4 (TimeDistributed)    |          0|          0|            0\n",
      "time_distributed_5 (TimeDistributed)    |        2.1|      0.074|      1.1e-10\n",
      "spiking_activation_3 (SpikingActivation)|    1.1e-06|    3.8e-08|        1e-08\n",
      "time_distributed_6 (TimeDistributed)    |      7e-05|    2.5e-06|      1.1e-08\n",
      "spiking_activation_4 (SpikingActivation)|    5.5e-07|    1.9e-08|      5.2e-09\n",
      "time_distributed_7 (TimeDistributed)    |    4.4e-06|    1.5e-07|      3.7e-09\n",
      "spiking_activation_5 (SpikingActivation)|    6.9e-08|    2.4e-09|      6.5e-10\n",
      "flatten_1 (Flatten)                     |          0|          0|            0\n",
      "dense_3 (Dense)                         |    1.5e-07|    5.4e-09|      6.1e-10\n",
      "==============================================================================\n",
      "Total energy per inference [Joules/inf] (cpu): 1.43e+01\n",
      "Total energy per inference [Joules/inf] (gpu): 5.00e-01\n",
      "Total energy per inference [Joules/inf] (loihi): 3.53e-02\n"
     ]
    }
   ],
   "source": [
    "energy = keras_spiking.ModelEnergy(model, example_data=np.ones((32, 1, 256, 256, 1)))\n",
    "energy.summary(\n",
    "    columns=(\"name\", \"energy cpu\", \"energy gpu\", \"energy loihi\"), dt=2, print_warnings=False\n",
    ")"
   ]
  },
  {
   "cell_type": "code",
   "execution_count": null,
   "id": "d682a60f",
   "metadata": {
    "pycharm": {
     "name": "#%%\n"
    }
   },
   "outputs": [],
   "source": []
  }
 ],
 "metadata": {
  "kernelspec": {
   "display_name": "Python 3 (ipykernel)",
   "language": "python",
   "name": "python3"
  },
  "language_info": {
   "codemirror_mode": {
    "name": "ipython",
    "version": 3
   },
   "file_extension": ".py",
   "mimetype": "text/x-python",
   "name": "python",
   "nbconvert_exporter": "python",
   "pygments_lexer": "ipython3",
   "version": "3.11.0rc1"
  }
 },
 "nbformat": 4,
 "nbformat_minor": 5
}
